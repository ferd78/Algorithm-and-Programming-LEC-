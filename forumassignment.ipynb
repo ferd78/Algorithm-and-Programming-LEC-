{
 "cells": [
  {
   "cell_type": "code",
   "execution_count": 2,
   "metadata": {},
   "outputs": [
    {
     "name": "stdout",
     "output_type": "stream",
     "text": [
      "452.57142857142856\n"
     ]
    }
   ],
   "source": [
    "#1\n",
    "radius_val = int(input(\"Please input the value for radius: \"))\n",
    "area =  (22/7)*(radius_val)**2\n",
    "\n",
    "print(area)"
   ]
  },
  {
   "cell_type": "code",
   "execution_count": 3,
   "metadata": {},
   "outputs": [
    {
     "name": "stdout",
     "output_type": "stream",
     "text": [
      "Jones   Mark\n"
     ]
    }
   ],
   "source": [
    "#2\n",
    "first_name = input(\"Please input your first name: \")\n",
    "surname = input(\"Please input your surname : \")\n",
    "\n",
    "print(surname,\" \",first_name)"
   ]
  },
  {
   "cell_type": "code",
   "execution_count": 10,
   "metadata": {},
   "outputs": [
    {
     "name": "stdout",
     "output_type": "stream",
     "text": [
      "Red Black\n"
     ]
    }
   ],
   "source": [
    "#3\n",
    "colorlist = [\"Red\", \"Green\", \"White\", \"Black\"]\n",
    "print(colorlist[0], colorlist[3])"
   ]
  },
  {
   "cell_type": "code",
   "execution_count": 16,
   "metadata": {},
   "outputs": [
    {
     "name": "stdout",
     "output_type": "stream",
     "text": [
      "155\n"
     ]
    }
   ],
   "source": [
    "#4\n",
    "n = int(input(\"Enter the value for the integer(n): \"))\n",
    "ncalc = n + (n ** 2) + (n ** 3)\n",
    "print(ncalc)\n"
   ]
  },
  {
   "cell_type": "code",
   "execution_count": 18,
   "metadata": {},
   "outputs": [
    {
     "name": "stdout",
     "output_type": "stream",
     "text": [
      "The radius for this sphere is 6\n",
      "The volume of this sphere with a radius of 6 is 905.142857142857\n"
     ]
    }
   ],
   "source": [
    "#5\n",
    "print(\"The radius for this sphere is 6\")\n",
    "sphere_formula = 4/3 * (22/7) * (6 ** 3)\n",
    "print(\"The volume of this sphere with a radius of 6 is \" + str(sphere_formula))"
   ]
  },
  {
   "cell_type": "code",
   "execution_count": 5,
   "metadata": {},
   "outputs": [
    {
     "name": "stdout",
     "output_type": "stream",
     "text": [
      "6\n"
     ]
    }
   ],
   "source": [
    "#6\n",
    "integer = int(input(\"Enter a number: \"))\n",
    "\n",
    "if integer < 17:\n",
    "    subtraction = 17 - integer\n",
    "    print(subtraction)\n",
    "else:\n",
    "    calc2 = integer - 17\n",
    "    calc3 = calc2 * 2\n",
    "    print(calc3)\n"
   ]
  },
  {
   "cell_type": "code",
   "execution_count": 1,
   "metadata": {},
   "outputs": [
    {
     "name": "stdout",
     "output_type": "stream",
     "text": [
      "20\n"
     ]
    }
   ],
   "source": [
    "#7\n",
    "a = int(input(\"enter the first number: \"))\n",
    "b = int(input(\"Enter the second number: \"))\n",
    "c = int(input(\"enter the third number: \"))\n",
    "\n",
    "if a == b == c:\n",
    "    calc = (a+b+c)*3\n",
    "    print(calc)\n",
    "\n",
    "else:\n",
    "    calc2 = a + b + c\n",
    "    print(calc2)\n",
    "    \n",
    "    "
   ]
  },
  {
   "cell_type": "code",
   "execution_count": null,
   "metadata": {},
   "outputs": [],
   "source": [
    "#8\n",
    "number = int(input(\"Please input a number: \"))\n",
    "\n",
    "if(number % 2) == 0:\n",
    "   print(\"{0} is an Even Number\".format(number))\n",
    "else:\n",
    "   print(\"{0} is an Odd Number\".format(number))"
   ]
  },
  {
   "cell_type": "code",
   "execution_count": 2,
   "metadata": {},
   "outputs": [
    {
     "name": "stdout",
     "output_type": "stream",
     "text": [
      "a is a vowel\n"
     ]
    }
   ],
   "source": [
    "#9\n",
    "let = input(\"Input a letter:\")\n",
    "\n",
    "if (let == \"A\" or let == \"I\" or let == \"U\" or let == \"E\" or let == \"O\" or let == \"a\" or let == \"i\" or let == \"u\" or let == \"e\" or let == \"o\"):\n",
    "    print(let, \"is a vowel\")\n",
    "else:\n",
    "    print(let, \"is not a vowel\")"
   ]
  },
  {
   "cell_type": "code",
   "execution_count": 3,
   "metadata": {},
   "outputs": [
    {
     "name": "stdout",
     "output_type": "stream",
     "text": [
      "2 is contained in [1, 5, 6, 7, 9, 2]\n"
     ]
    }
   ],
   "source": [
    "#10\n",
    "list1 = [1, 5, 6, 7, 9, 2]\n",
    "integer = int(input(\"Enter a number: \"))\n",
    "\n",
    "if integer in list1:\n",
    "    print(integer, \"is contained in\", list1)\n",
    "else:\n",
    "    print(integer, \"isn't in the list\")"
   ]
  },
  {
   "cell_type": "code",
   "execution_count": 14,
   "metadata": {},
   "outputs": [
    {
     "name": "stdout",
     "output_type": "stream",
     "text": [
      "xxxxxxxxxxx\n",
      "xxxxxxxxxxxxx\n",
      "xxxxxxxxxxxxxxxxxxxxxxxxxxxxxxxxxxxxx\n",
      "xxxxxxxxxxxxxxxxxxxxxxxxxxxxxxxxxxxxxxxxxxxxxxxxxx\n"
     ]
    }
   ],
   "source": [
    "#11\n",
    "def histrogram(nums):\n",
    "    for i in nums:\n",
    "        output = ''\n",
    "        while i > 0:\n",
    "            output = output + \"x\"\n",
    "            i = i - 1\n",
    "        print(output)\n",
    "\n",
    "histrogram([11, 13, 37, 50])"
   ]
  },
  {
   "cell_type": "code",
   "execution_count": 4,
   "metadata": {},
   "outputs": [
    {
     "name": "stdout",
     "output_type": "stream",
     "text": [
      "386 462 418 344 236 566 978 328 162 758 918 412 566 826 248 866 950 626 104 58 512 24 892 894 742 958 "
     ]
    }
   ],
   "source": [
    "\n",
    "#12\n",
    "list1 = [386, 462, 47, 418, 907, 344, 236, 375, 823, 566, 597, 978, 328, 615, 953, 345,\n",
    "399, 162, 758, 219, 918, 237, 412, 566, 826, 248, 866, 950, 626, 949, 687, 217,\n",
    "815, 67, 104, 58, 512, 24, 892, 894, 767, 553, 81, 379, 843, 831, 445, 742, 717,\n",
    "958,743, 527]\n",
    "\n",
    "for x in list1:\n",
    "    if x % 2 == 0:\n",
    "        print(x, end=\" \") "
   ]
  },
  {
   "cell_type": "code",
   "execution_count": 5,
   "metadata": {},
   "outputs": [
    {
     "name": "stdout",
     "output_type": "stream",
     "text": [
      "35.0\n"
     ]
    }
   ],
   "source": [
    "#13\n",
    "base = int(input(\"Enter the base: \"))\n",
    "height = int(input(\"Enter the height: \"))\n",
    "area = 1/2 * base * height\n",
    "\n",
    "print(area)\n"
   ]
  },
  {
   "cell_type": "code",
   "execution_count": 6,
   "metadata": {},
   "outputs": [
    {
     "name": "stdout",
     "output_type": "stream",
     "text": [
      "The lcm of 1 and 2 is 2\n"
     ]
    }
   ],
   "source": [
    "#14\n",
    "num1 = int(input(\"Input the number: \"))\n",
    "num2 = int(input(\"Input the second number: \"))\n",
    "\n",
    "if num1 < num2:\n",
    "    smaller = num1\n",
    "else:\n",
    "    smaller = num2\n",
    "\n",
    "for i in range(1, smaller+1):\n",
    "    if num1 % i == 0 and num2 % i == 0:\n",
    "        gcd = i\n",
    "\n",
    "lcm = num1*num2//gcd\n",
    "print(\"The lcm of\", num1, \"and\", num2, \"is\", lcm)"
   ]
  },
  {
   "cell_type": "code",
   "execution_count": 4,
   "metadata": {},
   "outputs": [
    {
     "name": "stdout",
     "output_type": "stream",
     "text": [
      "The sum of these 2 numbers are zero\n"
     ]
    }
   ],
   "source": [
    "#15\n",
    "a = int(input(\"Enter a number: \"))\n",
    "b = int(input(\"Enter a second number: \"))\n",
    "c = int(input(\"Enter a third number: \"))\n",
    "\n",
    "if a==b or a==c or b==a:\n",
    "    print(\"The sum of these 2 numbers are zero\")\n",
    "else:\n",
    "    calculation = a + b + c\n",
    "    print(calculation)"
   ]
  },
  {
   "cell_type": "code",
   "execution_count": null,
   "metadata": {},
   "outputs": [
    {
     "name": "stdout",
     "output_type": "stream",
     "text": [
      "(4+3)^2)=49\n"
     ]
    }
   ],
   "source": [
    "#16\n",
    "x = int(input(\"Please input a number: \"))\n",
    "y = int(input(\"Please input a second number: \"))\n",
    "\n",
    "calc= (x+y)**2\n",
    "print(\"(\"+str(x)+\"+\"+str(y)+\")\"+\"^2\"+\")\" + \"=\"+ str(calc))"
   ]
  },
  {
   "cell_type": "code",
   "execution_count": null,
   "metadata": {},
   "outputs": [
    {
     "name": "stdout",
     "output_type": "stream",
     "text": [
      "The amount is 12722.79\n"
     ]
    }
   ],
   "source": [
    "#17\n",
    "pr = int(input(\"Enter the principal amount($)\"))\n",
    "ir = float(input(\"Enter the interest rate(%): \"))\n",
    "t = int(input(\"Enter the time (years): \"))\n",
    "A = pr*(1 + (ir/100))**t\n",
    "A2 = \"{:.2f}\".format(A)\n",
    "print(\"The amount is\", A2)"
   ]
  },
  {
   "cell_type": "code",
   "execution_count": null,
   "metadata": {},
   "outputs": [
    {
     "name": "stdout",
     "output_type": "stream",
     "text": [
      "The distance between the value of 5 and 8 and 4 and 5 is 3.1622776601683795\n"
     ]
    }
   ],
   "source": [
    "#18\n",
    "import math\n",
    "x1 = int(input(\"Enter the value: \"))\n",
    "y1 = int(input(\"Enter the value: \"))\n",
    "x2 = int(input(\"Enter the value: \"))\n",
    "y2 = int(input(\"Enter the value: \"))\n",
    "\n",
    "d = math.sqrt(((x2-x1)**2) + ((y2-y1)**2))\n",
    "print(\"The distance between the value of\", x1, \"and\", y1, \"and\", x2, \"and\", y2, \"is\", d)\n",
    "\n",
    "\n"
   ]
  },
  {
   "cell_type": "code",
   "execution_count": null,
   "metadata": {},
   "outputs": [
    {
     "name": "stdout",
     "output_type": "stream",
     "text": [
      "The sum integer of n when the input is 2 is 3.0\n"
     ]
    }
   ],
   "source": [
    "#19\n",
    "n = int(input(\"Please input the integer for n: \"))\n",
    "calculation = n * (n + 1)/2\n",
    "print(\"The sum integer of n when the input is\", n,\"is\", calculation)\n"
   ]
  },
  {
   "cell_type": "code",
   "execution_count": null,
   "metadata": {},
   "outputs": [
    {
     "name": "stdout",
     "output_type": "stream",
     "text": [
      "The height of 5.0 Feet and 9.5 Inches is 176.53 CM\n"
     ]
    }
   ],
   "source": [
    "#20\n",
    "feet = int(input(\"Input height in feet: \"))\n",
    "inches = int(input(\"Input height in inches: \"))\n",
    "feet_conv = feet * 12 * 2.54\n",
    "inches_conv = inches * 2.54\n",
    "feet_inches_conv = feet_conv + inches_conv\n",
    "\n",
    "print(\"The height of\", feet, \"Feet and\", inches, \"Inches is\", str(feet_inches_conv) + \" CM\")"
   ]
  },
  {
   "cell_type": "code",
   "execution_count": null,
   "metadata": {},
   "outputs": [
    {
     "name": "stdout",
     "output_type": "stream",
     "text": [
      "The hypotenuse of this triangle is 14.142135623730951 units\n"
     ]
    }
   ],
   "source": [
    "#21\n",
    "import math\n",
    "\n",
    "side1 = int(input(\"Please input the length of side 1: \"))\n",
    "side2 = int(input(\"Now, input the second length: \"))\n",
    "hypotenuse = math.sqrt((side1**2) + (side2**2))\n",
    "print(\"The hypotenuse of this triangle is\", hypotenuse, \"units\")"
   ]
  },
  {
   "cell_type": "code",
   "execution_count": null,
   "metadata": {},
   "outputs": [
    {
     "name": "stdout",
     "output_type": "stream",
     "text": [
      "The BMI when you height is 152 Cm and your weight is 60 Kg = 25.97\n"
     ]
    }
   ],
   "source": [
    "#22\n",
    "height = int(input(\"Please input your height in Cm: \"))\n",
    "weight = int(input(\"Please input your weight in Kg:\"))\n",
    "\n",
    "height_conv = height * 0.01\n",
    "height_squared = height_conv**2\n",
    "bmi = weight/height_squared\n",
    "bmi2 = \"{:.2f}\".format(bmi)\n",
    "\n",
    "print(\"The BMI when your height is\", str(height) + \" Cm\", \"and your weight is\", str(weight) + \" Kg\", \"=\", bmi2)"
   ]
  },
  {
   "cell_type": "code",
   "execution_count": null,
   "metadata": {},
   "outputs": [
    {
     "name": "stdout",
     "output_type": "stream",
     "text": [
      "The midpoint is ( 7.5 , 24.0 )\n"
     ]
    }
   ],
   "source": [
    "#23\n",
    "x1 = int(input(\"Enter the value of X1: \"))\n",
    "x2 = int(input(\"Enter the value of X2: \"))\n",
    "y1 = int(input(\"Enter the value of Y1: \"))\n",
    "y2 = int(input(\"Enter the value OF Y2: \"))\n",
    "\n",
    "value_x = (x1+x2)/2\n",
    "value_y = (y1+y2)/2\n",
    "\n",
    "print(\"The midpoint is\", \"(\",value_x,\",\",value_y,\")\")"
   ]
  },
  {
   "cell_type": "code",
   "execution_count": 1,
   "metadata": {},
   "outputs": [
    {
     "name": "stdout",
     "output_type": "stream",
     "text": [
      "[2002, 2009, 2016, 2023, 2037, 2044, 2051, 2058, 2072, 2079, 2086, 2093, 2107, 2114, 2121, 2128, 2142, 2149, 2156, 2163, 2177, 2184, 2191, 2198, 2212, 2219, 2226, 2233, 2247, 2254, 2261, 2268, 2282, 2289, 2296, 2303, 2317, 2324, 2331, 2338, 2352, 2359, 2366, 2373, 2387, 2394, 2401, 2408, 2422, 2429, 2436, 2443, 2457, 2464, 2471, 2478, 2492, 2499, 2506, 2513, 2527, 2534, 2541, 2548, 2562, 2569, 2576, 2583, 2597, 2604, 2611, 2618, 2632, 2639, 2646, 2653, 2667, 2674, 2681, 2688, 2702, 2709, 2716, 2723, 2737, 2744, 2751, 2758, 2772, 2779, 2786, 2793, 2807, 2814, 2821, 2828, 2842, 2849, 2856, 2863, 2877, 2884, 2891, 2898, 2912, 2919, 2926, 2933, 2947, 2954, 2961, 2968, 2982, 2989, 2996, 3003, 3017, 3024, 3031, 3038, 3052, 3059, 3066, 3073, 3087, 3094, 3101, 3108, 3122, 3129, 3136, 3143, 3157, 3164, 3171, 3178, 3192, 3199]\n"
     ]
    }
   ],
   "source": [
    "#24\n",
    "num = []\n",
    "for i in range(2000, 3201):\n",
    "    if i % 7 == 0 and i % 5 != 0:\n",
    "        num.append(i)\n",
    "print(num)\n",
    "        \n"
   ]
  }
 ],
 "metadata": {
  "kernelspec": {
   "display_name": "Python 3.10.2 64-bit",
   "language": "python",
   "name": "python3"
  },
  "language_info": {
   "codemirror_mode": {
    "name": "ipython",
    "version": 3
   },
   "file_extension": ".py",
   "mimetype": "text/x-python",
   "name": "python",
   "nbconvert_exporter": "python",
   "pygments_lexer": "ipython3",
   "version": "3.10.2"
  },
  "orig_nbformat": 4,
  "vscode": {
   "interpreter": {
    "hash": "ec56fae2c6a7096d830613c1c6e56af94bfd90f97c33dcb5b6f938cf89df7ddc"
   }
  }
 },
 "nbformat": 4,
 "nbformat_minor": 2
}
