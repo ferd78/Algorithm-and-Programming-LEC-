{
 "cells": [
  {
   "cell_type": "code",
   "execution_count": null,
   "metadata": {},
   "outputs": [],
   "source": [
    "#MCQ answers\n",
    "1. B\n",
    "2. D\n",
    "3. A\n",
    "4. B\n",
    "5. D\n",
    "6. C\n",
    "7. A\n",
    "8. C\n",
    "9. A\n"
   ]
  },
  {
   "cell_type": "code",
   "execution_count": null,
   "metadata": {},
   "outputs": [
    {
     "name": "stdout",
     "output_type": "stream",
     "text": [
      "{'gold': 550, 'pouch': ['seashell', 'strange berry', 'lint'], 'backpack': ['bedroll', 'breadloaf', 'xylophone']}\n"
     ]
    }
   ],
   "source": [
    "inventory = {\n",
    "    'gold': 500,\n",
    "    'pouch': ['flint','twine','gemstone'],\n",
    "    'backpack': ['xylophone','dagger','bedroll','breadloaf']\n",
    "}\n",
    "\n",
    "inventory['pouch'] = ['seashell', 'strange berry','lint']\n",
    "\n",
    "inventory['backpack'].sort()\n",
    "inventory['backpack'].remove('dagger')\n",
    "\n",
    "inventory['gold']+=50\n",
    "\n",
    "print(inventory)\n"
   ]
  },
  {
   "cell_type": "code",
   "execution_count": 3,
   "metadata": {},
   "outputs": [
    {
     "name": "stdout",
     "output_type": "stream",
     "text": [
      "banana\n",
      "price: 4\n",
      "stocks: 6 \n",
      "\n",
      "apple\n",
      "price: 2\n",
      "stocks: 0 \n",
      "\n",
      "orange\n",
      "price: 1.5\n",
      "stocks: 32 \n",
      "\n",
      "pear\n",
      "price: 3\n",
      "stocks: 15 \n",
      "\n",
      "The total is: 117.0\n"
     ]
    }
   ],
   "source": [
    "prices = {\n",
    "    \"banana\": 4,\n",
    "    \"apple\": 2,\n",
    "    \"orange\": 1.5,\n",
    "    \"pear\": 3\n",
    "}\n",
    "total = 0\n",
    "\n",
    "stocks = {\n",
    "    \"banana\": 6,\n",
    "    \"apple\": 0,\n",
    "    \"orange\": 32,\n",
    "    \"pear\": 15\n",
    "}\n",
    "for keys in prices:\n",
    "    print(keys)\n",
    "    print(\"price: %s\" % prices[keys])\n",
    "    print(\"stocks: %s \\n\" % stocks[keys])\n",
    "\n",
    "\n",
    "\n",
    "\n",
    "for keys in prices:\n",
    "    total+=stocks[keys]*prices[keys]\n",
    "print(f\"The total is: {total}\" )\n"
   ]
  },
  {
   "cell_type": "code",
   "execution_count": 2,
   "metadata": {},
   "outputs": [
    {
     "name": "stdout",
     "output_type": "stream",
     "text": [
      "5.5\n"
     ]
    }
   ],
   "source": [
    "cart = [\"banana\", \"orange\", \"apple\"]\n",
    "\n",
    "stock = {\n",
    "    \"banana\": 6,\n",
    "    \"apple\": 0,\n",
    "    \"orange\": 32,\n",
    "    \"pear\": 15\n",
    "}\n",
    "\n",
    "prices = {\n",
    "    \"banana\": 4,\n",
    "    \"apple\": 2,\n",
    "    \"orange\": 1.5,\n",
    "    \"pear\": 3\n",
    "}\n",
    "\n",
    "def compute_bill(food):\n",
    "    total = 0\n",
    "    for i in food:\n",
    "        if stock[i] > 0:\n",
    "            total = total + prices[i]\n",
    "            stock[i] = stock[i] - 1\n",
    "    return total\n",
    "\n",
    "print(compute_bill(cart))"
   ]
  },
  {
   "cell_type": "code",
   "execution_count": 24,
   "metadata": {},
   "outputs": [
    {
     "name": "stdout",
     "output_type": "stream",
     "text": [
      "Eren\n",
      "[90.0, 97.0, 75.0, 92.0]\n",
      "[88.0, 40.0, 94.0]\n",
      "[75.0, 90.0]\n",
      "\n",
      "\n",
      "Mikasa\n",
      "[100.0, 92.0, 98.0, 100.0]\n",
      "[82.0, 83.0, 91.0]\n",
      "[89.0, 97.0]\n",
      "\n",
      "\n",
      "Armin\n",
      "[0.0, 87.0, 75.0, 22.0]\n",
      "[0.0, 75.0, 78.0]\n",
      "[100.0, 100.0]\n",
      "\n",
      "\n",
      "Eren's class average: 67.0\n",
      "The class average is: 68.07777777777777\n",
      "Average letter grade for students is: D\n"
     ]
    }
   ],
   "source": [
    "eren = {\n",
    "    \"name\": \"Eren\",\n",
    "    \"homework\": [90.0,97.0,75.0,92.0],\n",
    "    \"quizzes\": [88.0,40.0,94.0],\n",
    "    \"tests\": [75.0,90.0]\n",
    "}\n",
    "\n",
    "mikasa = {\n",
    "    \"name\": \"Mikasa\",\n",
    "    \"homework\": [100.0, 92.0, 98.0, 100.0],\n",
    "    \"quizzes\": [82.0, 83.0, 91.0],\n",
    "    \"tests\": [89.0, 97.0]\n",
    "}\n",
    "armin = {\n",
    "    \"name\": \"Armin\",\n",
    "    \"homework\": [0.0, 87.0, 75.0, 22.0],\n",
    "    \"quizzes\": [0.0, 75.0, 78.0],\n",
    "    \"tests\": [100.0, 100.0]\n",
    "}\n",
    "\n",
    "students = [eren, mikasa, armin]\n",
    "\n",
    "for student in students:\n",
    "    print(student[\"name\"])\n",
    "    print(student[\"homework\"])\n",
    "    print(student[\"quizzes\"])\n",
    "    print(student[\"tests\"])\n",
    "    print(\"\\n\")\n",
    "\n",
    "def average(numbers):\n",
    "    total = float(sum(numbers))\n",
    "    total = total/len(students)\n",
    "    return total\n",
    "\n",
    "def get_average(student):\n",
    "    homework = average(student[\"homework\"])\n",
    "    quizzes = average(student[\"quizzes\"])\n",
    "    tests = average(student[\"tests\"])\n",
    "    total = (0.1 * homework) + (0.3 * quizzes) + (0.6 * tests)\n",
    "    return total\n",
    "\n",
    "\n",
    "def get_letter_grade(score):\n",
    "    if score >= 90:\n",
    "        return \"A\"\n",
    "    elif score >= 80:\n",
    "        return \"B\"\n",
    "    elif score >=70:\n",
    "        return \"C\"\n",
    "    elif score >=60:\n",
    "        return \"D\"\n",
    "    else:\n",
    "        return \"F\" \n",
    "\n",
    "def get_class_average(students):\n",
    "    results = []\n",
    "    for i in students:\n",
    "        results.append(get_average(i))\n",
    "    return average(results)\n",
    "\n",
    "print(f\"Eren's class average: {get_average(eren)}\")\n",
    "print(f\"The class average is: {get_class_average(students)}\")\n",
    "print(f\"Average letter grade for students is: {get_letter_grade(get_class_average(students))}\")\n",
    "\n",
    "\n"
   ]
  }
 ],
 "metadata": {
  "kernelspec": {
   "display_name": "Python 3.10.2 64-bit",
   "language": "python",
   "name": "python3"
  },
  "language_info": {
   "codemirror_mode": {
    "name": "ipython",
    "version": 3
   },
   "file_extension": ".py",
   "mimetype": "text/x-python",
   "name": "python",
   "nbconvert_exporter": "python",
   "pygments_lexer": "ipython3",
   "version": "3.10.2"
  },
  "orig_nbformat": 4,
  "vscode": {
   "interpreter": {
    "hash": "ec56fae2c6a7096d830613c1c6e56af94bfd90f97c33dcb5b6f938cf89df7ddc"
   }
  }
 },
 "nbformat": 4,
 "nbformat_minor": 2
}
